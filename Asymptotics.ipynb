{
 "cells": [
  {
   "cell_type": "markdown",
   "metadata": {},
   "source": [
    "$$\n",
    "\\frac{\\sum_{k=1}^n\\frac{1}{k}}{\\log n}\\quad\\rightarrow\\quad 1\n",
    "$$"
   ]
  },
  {
   "cell_type": "code",
   "execution_count": 7,
   "metadata": {},
   "outputs": [
    {
     "data": {
      "image/png": "[encoded data removed]",
      "text/plain": [
       "<Figure size 432x288 with 1 Axes>"
      ]
     },
     "metadata": {
      "needs_background": "light"
     },
     "output_type": "display_data"
    }
   ],
   "source": [
    "# computaion without using for loop, i.e., vectorization\n",
    "\n",
    "import numpy as np\n",
    "import matplotlib.pyplot as plt\n",
    "\n",
    "n = 20000\n",
    "\n",
    "top = np.cumsum(1. / np.arange(1,n))[1:] # [1:] is needed since log(1)=0\n",
    "bottom = np.log(np.arange(2,n)) \n",
    "ratio = top / bottom\n",
    "\n",
    "plt.plot(np.arange(2,n), ratio)\n",
    "plt.plot(np.arange(2,n), np.ones_like(np.arange(2,n)), '--r')\n",
    "plt.show()"
   ]
  },
  {
   "cell_type": "markdown",
   "metadata": {},
   "source": [
    "Exercise. Make a code to demonstrate that as $n\\rightarrow\\infty$\n",
    "$$\n",
    "\\displaystyle\\frac{\\sum_{k=1}^nk^4}{n^5}\\quad\\mbox{converges.}\n",
    "$$"
   ]
  }
 ],
 "metadata": {
  "kernelspec": {
   "display_name": "Python 3",
   "language": "python",
   "name": "python3"
  },
  "language_info": {
   "codemirror_mode": {
    "name": "ipython",
    "version": 3
   },
   "file_extension": ".py",
   "mimetype": "text/x-python",
   "name": "python",
   "nbconvert_exporter": "python",
   "pygments_lexer": "ipython3",
   "version": "3.5.0"
  }
 },
 "nbformat": 4,
 "nbformat_minor": 2
}
